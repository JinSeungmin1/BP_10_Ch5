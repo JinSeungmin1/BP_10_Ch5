{
  "nbformat": 4,
  "nbformat_minor": 0,
  "metadata": {
    "colab": {
      "provenance": [],
      "authorship_tag": "ABX9TyNlbN01FQgfuv/Blo8Utb+l",
      "include_colab_link": true
    },
    "kernelspec": {
      "name": "python3",
      "display_name": "Python 3"
    },
    "language_info": {
      "name": "python"
    }
  },
  "cells": [
    {
      "cell_type": "markdown",
      "metadata": {
        "id": "view-in-github",
        "colab_type": "text"
      },
      "source": [
        "<a href=\"https://colab.research.google.com/github/JinSeungmin1/BP_10_Ch5/blob/main/BP_10_Ch5.ipynb\" target=\"_parent\"><img src=\"https://colab.research.google.com/assets/colab-badge.svg\" alt=\"Open In Colab\"/></a>"
      ]
    },
    {
      "cell_type": "code",
      "source": [
        "age = 20\n",
        "if age < 20:    # 20살 보다 적으면 \n",
        "  print('20살 미만')   \n",
        "else:           # 20살 보다 많으면\n",
        "  print('20살 이상')"
      ],
      "metadata": {
        "colab": {
          "base_uri": "https://localhost:8080/"
        },
        "id": "0FAFWHjmbyZ7",
        "outputId": "d625671f-15a6-40b3-bb6a-ceb6c5ac0e19"
      },
      "execution_count": 3,
      "outputs": [
        {
          "output_type": "stream",
          "name": "stdout",
          "text": [
            "20살 이상\n"
          ]
        }
      ]
    },
    {
      "cell_type": "code",
      "execution_count": 6,
      "metadata": {
        "colab": {
          "base_uri": "https://localhost:8080/"
        },
        "id": "N7At-KAjbHPj",
        "outputId": "46c64f97-0cfb-4622-c7ae-672b660e3b20"
      },
      "outputs": [
        {
          "output_type": "stream",
          "name": "stdout",
          "text": [
            "30살 이상이고 50살 이하를 제외한 나머지\n"
          ]
        }
      ],
      "source": [
        "age = 20\n",
        "if age >= 30 and age <= 50:   # 30살 보다 많고 50살 보다 적으면\n",
        " print('30살 이상이고 50살 이하')\n",
        "else:                         # 30살 보다 많고 50살 보다 적은걸 제외한 나머지\n",
        " print('30살 이상이고 50살 이하를 제외한 나머지')"
      ]
    },
    {
      "cell_type": "code",
      "source": [
        "temp = int(input(\"현재 온도를 입력하시오: \"))\n",
        "if temp >= 25:     # 현재 온도가 25도보다 같거나 높으면\n",
        " print(\"반바지를 입으세요\")\n",
        "else:              # 현재 온도가 25도보다 낮다면\n",
        " print(\"긴바지를 입으세요\")"
      ],
      "metadata": {
        "colab": {
          "base_uri": "https://localhost:8080/"
        },
        "id": "F2CdsVMlcb-C",
        "outputId": "97439e1a-dc52-492f-bb13-298d210058d8"
      },
      "execution_count": 7,
      "outputs": [
        {
          "output_type": "stream",
          "name": "stdout",
          "text": [
            "현재 온도를 입력하시오: 10\n",
            "긴바지를 입으세요\n"
          ]
        }
      ]
    },
    {
      "cell_type": "code",
      "source": [
        "score = int(input(\"성적을 입력하시오: \"))\n",
        "if score >= 90:     # 성적이 90점 이거나 그 이상이면\n",
        " print(\"A학점입니다.\")\n",
        "elif score >= 80:   # 성적이 80점 이거나 90점 미만이면\n",
        " print(\"B학점입니다.\")\n",
        "elif score >= 70:   # 성적이 70점 이거나 80점 미만이면\n",
        " print(\"C학점입니다.\")\n",
        "elif score >= 60:   # 성적이 60점 이거나 70점 미만이면\n",
        " print(\"D학점입니다.\")\n",
        "else :              # 성적이 60점 미만이면\n",
        " print(\"F학점입니다.\")\n"
      ],
      "metadata": {
        "colab": {
          "base_uri": "https://localhost:8080/"
        },
        "id": "0TiMVnGicfsW",
        "outputId": "a76ba70b-f32d-49ff-ddf8-60ab03a5d71d"
      },
      "execution_count": 8,
      "outputs": [
        {
          "output_type": "stream",
          "name": "stdout",
          "text": [
            "성적을 입력하시오: 99\n",
            "A학점입니다.\n"
          ]
        }
      ]
    },
    {
      "cell_type": "code",
      "source": [
        "import random\n",
        "x = random.randint(1, 100) # x값의 임의의 수\n",
        "y = random.randint(1, 100) # y값의 임의의 수\n",
        "ans = int(input(str(x)+\"-\"+str(y)+\"=\")) # 임의의 수 x와 임의의 수 y의 값으로 만든 문제\n",
        "if ans == x -y : # 정답이 맞다면\n",
        " print(\"맞았습니다.\")\n",
        "else :           # 정답이 틀렸다면\n",
        " print(\"틀렸습니다.\")"
      ],
      "metadata": {
        "colab": {
          "base_uri": "https://localhost:8080/"
        },
        "id": "5iQ9CwfZciPH",
        "outputId": "343a0abf-7180-4efa-d60f-082432cc098a"
      },
      "execution_count": 9,
      "outputs": [
        {
          "output_type": "stream",
          "name": "stdout",
          "text": [
            "35-4=31\n",
            "맞았습니다.\n"
          ]
        }
      ]
    },
    {
      "cell_type": "code",
      "source": [
        "n = int(input(\"정수를 입력하시오: \"))\n",
        "if n%2==0 and n%3==0:     # 정수가 2와 3으로 나누어 떨어진다면\n",
        " print(\"2와 3으로 나누어 떨어집니다.\")\n",
        "else :                    # 2와 3으로 나누어떨어지는 정수가 아닐경우\n",
        " print(\"2와 3으로 나누어 떨어지지 않습니다.\")"
      ],
      "metadata": {
        "colab": {
          "base_uri": "https://localhost:8080/"
        },
        "id": "xbMAKvGOcsgz",
        "outputId": "6eb4ce51-7a9a-4647-867e-9f89cd829fce"
      },
      "execution_count": 10,
      "outputs": [
        {
          "output_type": "stream",
          "name": "stdout",
          "text": [
            "정수를 입력하시오: 6\n",
            "2와 3으로 나누어 떨어집니다.\n"
          ]
        }
      ]
    },
    {
      "cell_type": "code",
      "source": [
        "import random\n",
        "solution = random.randint(0, 99)\n",
        "user = int(input(\"복권번호를 입력하시요(0에서 99사이): \"))  # 복권번호 입력\n",
        "digit1 = solution // 10\n",
        "digit2 = solution % 10\n",
        "u_digit1 = user // 10\n",
        "u_digit2 = user % 10\n",
        "print(\"당첨번호는\", solution, \"입니다.\")\n",
        "if (digit1 == u_digit1 and digit2 == u_digit2): # 복권번호가 모두 일치할 경우\n",
        " print(\"상금은 100만원입니다.\")\n",
        "elif (digit1 == u_digit1     # 번호가 하나이상 일치할 경우\n",
        " or digit1 == u_digit2\n",
        " or digit2 == u_digit1\n",
        " or digit2 == u_digit2):\n",
        " print(\"상금은 50만원입니다.\")\n",
        "else:                       # 모든 번호가 일치하지 않을 경우\n",
        " print(\"상금은 없습니다.\")\n"
      ],
      "metadata": {
        "colab": {
          "base_uri": "https://localhost:8080/"
        },
        "id": "GMi3xv7qcxdn",
        "outputId": "f4da97e5-7380-44f1-e818-7ace719e1289"
      },
      "execution_count": 11,
      "outputs": [
        {
          "output_type": "stream",
          "name": "stdout",
          "text": [
            "복권번호를 입력하시요(0에서 99사이): 67\n",
            "당첨번호는 76 입니다.\n",
            "상금은 50만원입니다.\n"
          ]
        }
      ]
    }
  ]
}